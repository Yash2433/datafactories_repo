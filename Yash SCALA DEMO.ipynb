{
 "cells": [
  {
   "cell_type": "code",
   "execution_count": 0,
   "metadata": {
    "application/vnd.databricks.v1+cell": {
     "cellMetadata": {
      "byteLimit": 2048000,
      "rowLimit": 10000
     },
     "inputWidgets": {},
     "nuid": "730cbe30-b82a-4e67-ba43-0030b240f3d8",
     "showTitle": false,
     "tableResultSettingsMap": {},
     "title": ""
    }
   },
   "outputs": [
    {
     "output_type": "display_data",
     "data": {
      "text/html": [
       "<style scoped>\n",
       "  .ansiout {\n",
       "    display: block;\n",
       "    unicode-bidi: embed;\n",
       "    white-space: pre-wrap;\n",
       "    word-wrap: break-word;\n",
       "    word-break: break-all;\n",
       "    font-family: \"Menlo\", \"Monaco\", \"Consolas\", \"Ubuntu Mono\", \"Source Code Pro\", monospace;\n",
       "    font-size: 13px;\n",
       "    color: #555;\n",
       "    margin-left: 4px;\n",
       "    line-height: 19px;\n",
       "  }\n",
       "</style>\n",
       "<div class=\"ansiout\">List(10, 20, 30)+---+-----+------+\n",
       " id| name|Gender|\n",
       "+---+-----+------+\n",
       "  1|Alice|Female|\n",
       "  2|  Bob|  Male|\n",
       "+---+-----+------+\n",
       "\n",
       "nums: List[Int] = List(10, 20, 30)\n",
       "data: Seq[(Int, String, String)] = List((1,Alice,Female), (2,Bob,Male))\n",
       "df: org.apache.spark.sql.DataFrame = [id: int, name: string ... 1 more field]\n",
       "</div>"
      ]
     },
     "metadata": {
      "application/vnd.databricks.v1+output": {
       "addedWidgets": {},
       "arguments": {},
       "data": "<div class=\"ansiout\">List(10, 20, 30)+---+-----+------+\n| id| name|Gender|\n+---+-----+------+\n|  1|Alice|Female|\n|  2|  Bob|  Male|\n+---+-----+------+\n\nnums: List[Int] = List(10, 20, 30)\ndata: Seq[(Int, String, String)] = List((1,Alice,Female), (2,Bob,Male))\ndf: org.apache.spark.sql.DataFrame = [id: int, name: string ... 1 more field]\n</div>",
       "datasetInfos": [
        {
         "name": "df",
         "schema": {
          "fields": [
           {
            "metadata": {},
            "name": "id",
            "nullable": false,
            "type": "integer"
           },
           {
            "metadata": {},
            "name": "name",
            "nullable": true,
            "type": "string"
           },
           {
            "metadata": {},
            "name": "Gender",
            "nullable": true,
            "type": "string"
           }
          ],
          "type": "struct"
         },
         "tableIdentifier": null,
         "typeStr": "org.apache.spark.sql.DataFrame"
        }
       ],
       "metadata": {
        "isDbfsCommandResult": false
       },
       "removedWidgets": [],
       "type": "html"
      }
     },
     "output_type": "display_data"
    }
   ],
   "source": [
    "%scala\n",
    "// Declare an immutable list\n",
    "val nums = List(10,20,30)\n",
    "print(nums)\n",
    "\n",
    "// create a sequence of tuples and convert to DataFrame\n",
    "val data = Seq((1, \"Alice\",\"Female\"), (2, \"Bob\",\"Male\"))\n",
    "val df = spark.createDataFrame(data).toDF(\"id\", \"name\",\"Gender\")\n",
    "df.show()"
   ]
  },
  {
   "cell_type": "code",
   "execution_count": 0,
   "metadata": {
    "application/vnd.databricks.v1+cell": {
     "cellMetadata": {
      "byteLimit": 2048000,
      "rowLimit": 10000
     },
     "inputWidgets": {},
     "nuid": "345f7349-bf78-47d9-89e4-7133e45bdcdb",
     "showTitle": false,
     "tableResultSettingsMap": {},
     "title": ""
    }
   },
   "outputs": [
    {
     "output_type": "display_data",
     "data": {
      "text/html": [
       "<style scoped>\n",
       "  .ansiout {\n",
       "    display: block;\n",
       "    unicode-bidi: embed;\n",
       "    white-space: pre-wrap;\n",
       "    word-wrap: break-word;\n",
       "    word-break: break-all;\n",
       "    font-family: \"Menlo\", \"Monaco\", \"Consolas\", \"Ubuntu Mono\", \"Source Code Pro\", monospace;\n",
       "    font-size: 13px;\n",
       "    color: #555;\n",
       "    margin-left: 4px;\n",
       "    line-height: 19px;\n",
       "  }\n",
       "</style>\n",
       "<div class=\"ansiout\">+----------+------+---------+--------+-------+\n",
       "      date|region|  product|quantity|revenue|\n",
       "+----------+------+---------+--------+-------+\n",
       "2024-01-01| North|Product A|      10|  200.0|\n",
       "2024-01-01| South|Product B|       5|  300.0|\n",
       "2024-01-02| North|Product A|      20|  400.0|\n",
       "2024-01-02| South|Product B|      10|  600.0|\n",
       "2024-01-03|  East|Product C|      15|  375.0|\n",
       "+----------+------+---------+--------+-------+\n",
       "\n",
       "salesData: Seq[(String, String, String, Int, Double)] = List((2024-01-01,North,Product A,10,200.0), (2024-01-01,South,Product B,5,300.0), (2024-01-02,North,Product A,20,400.0), (2024-01-02,South,Product B,10,600.0), (2024-01-03,East,Product C,15,375.0))\n",
       "df: org.apache.spark.sql.DataFrame = [date: string, region: string ... 3 more fields]\n",
       "</div>"
      ]
     },
     "metadata": {
      "application/vnd.databricks.v1+output": {
       "addedWidgets": {},
       "arguments": {},
       "data": "<div class=\"ansiout\">+----------+------+---------+--------+-------+\n|      date|region|  product|quantity|revenue|\n+----------+------+---------+--------+-------+\n|2024-01-01| North|Product A|      10|  200.0|\n|2024-01-01| South|Product B|       5|  300.0|\n|2024-01-02| North|Product A|      20|  400.0|\n|2024-01-02| South|Product B|      10|  600.0|\n|2024-01-03|  East|Product C|      15|  375.0|\n+----------+------+---------+--------+-------+\n\nsalesData: Seq[(String, String, String, Int, Double)] = List((2024-01-01,North,Product A,10,200.0), (2024-01-01,South,Product B,5,300.0), (2024-01-02,North,Product A,20,400.0), (2024-01-02,South,Product B,10,600.0), (2024-01-03,East,Product C,15,375.0))\ndf: org.apache.spark.sql.DataFrame = [date: string, region: string ... 3 more fields]\n</div>",
       "datasetInfos": [
        {
         "name": "df",
         "schema": {
          "fields": [
           {
            "metadata": {},
            "name": "date",
            "nullable": true,
            "type": "string"
           },
           {
            "metadata": {},
            "name": "region",
            "nullable": true,
            "type": "string"
           },
           {
            "metadata": {},
            "name": "product",
            "nullable": true,
            "type": "string"
           },
           {
            "metadata": {},
            "name": "quantity",
            "nullable": false,
            "type": "integer"
           },
           {
            "metadata": {},
            "name": "revenue",
            "nullable": false,
            "type": "double"
           }
          ],
          "type": "struct"
         },
         "tableIdentifier": null,
         "typeStr": "org.apache.spark.sql.DataFrame"
        }
       ],
       "metadata": {
        "isDbfsCommandResult": false
       },
       "removedWidgets": [],
       "type": "html"
      }
     },
     "output_type": "display_data"
    }
   ],
   "source": [
    "%scala\n",
    "val salesData = Seq(\n",
    "  (\"2024-01-01\", \"North\", \"Product A\", 10, 200.0),\n",
    "  (\"2024-01-01\", \"South\", \"Product B\", 5, 300.0),\n",
    "  (\"2024-01-02\", \"North\", \"Product A\", 20, 400.0),\n",
    "  (\"2024-01-02\", \"South\", \"Product B\", 10, 600.0),\n",
    "  (\"2024-01-03\", \"East\",  \"Product C\", 15, 375.0)\n",
    ")\n",
    "val df = spark.createDataFrame(salesData).toDF(\"date\", \"region\", \"product\", \"quantity\", \"revenue\")\n",
    "df.show()"
   ]
  },
  {
   "cell_type": "code",
   "execution_count": 0,
   "metadata": {
    "application/vnd.databricks.v1+cell": {
     "cellMetadata": {},
     "inputWidgets": {},
     "nuid": "98516975-9834-4897-99ac-6dfc461e24ba",
     "showTitle": false,
     "tableResultSettingsMap": {},
     "title": ""
    }
   },
   "outputs": [],
   "source": []
  }
 ],
 "metadata": {
  "application/vnd.databricks.v1+notebook": {
   "computePreferences": null,
   "dashboards": [],
   "environmentMetadata": {
    "base_environment": "",
    "environment_version": "1"
   },
   "inputWidgetPreferences": null,
   "language": "python",
   "notebookMetadata": {
    "pythonIndentUnit": 4
   },
   "notebookName": "TS SCALA DEMO",
   "widgets": {}
  }
 },
 "nbformat": 4,
 "nbformat_minor": 0
}